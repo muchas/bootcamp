{
 "cells": [
  {
   "cell_type": "markdown",
   "metadata": {},
   "source": [
    "# Zadanie\n",
    "\n",
    "W klinice $15$ pacjentów (mało aktywnych) waży: \n",
    "\n",
    "[76, 101, 66, 72, 88, 82, 79, 73, 76, 85, 75, 64, 76, 81, 86.] kg \n",
    "\n",
    "i \n",
    "15 pacjentów (aktywnych fizycznie) waży:\n",
    "\n",
    "[64, 65, 56, 62, 59, 76, 66, 82, 91, 57, 92, 80, 82, 67, 54] kg.\n",
    "\n",
    "\n",
    "- Czy mało aktywni pacjenci są znacznie ciężsi (test t-studenta dla dwóch próbek)?\n",
    "- Czy powyższe dane pochodzą z rozkładów normalnych? \n"
   ]
  },
  {
   "cell_type": "code",
   "execution_count": 16,
   "metadata": {},
   "outputs": [
    {
     "name": "stdout",
     "output_type": "stream",
     "text": [
      "0.04516066585880743\n",
      "Nie, malo aktywni pacjenci nie sa znacznie ciezsi\n",
      "Malo aktywni pochodza z rozkladu normalnego\n",
      "Aktywni pochodza z rozkladu normalnego\n"
     ]
    }
   ],
   "source": [
    "import numpy as np\n",
    "import scipy.stats as stats\n",
    "\n",
    "X_lazy = [76, 101, 66, 72, 88, 82, 79, 73, 76, 85, 75, 64, 76, 81, 86]\n",
    "X_active = [64, 65, 56, 62, 59, 76, 66, 82, 91, 57, 92, 80, 82, 67, 54]\n",
    "\n",
    "\n",
    "_, p = stats.ttest_ind(X_lazy, X_active)\n",
    "print(p)\n",
    "if np.mean(X_lazy) > np.mean(X_active) and p > 0.05:\n",
    "    print(\"Tak, malo aktywni pacjenci sa znacznie ciezsi\")\n",
    "elif np.mean(X_lazy) > np.mean(X_active):\n",
    "    print(\"Nie, malo aktywni pacjenci nie sa znacznie ciezsi\")\n",
    "\n",
    "_, pvalue = stats.normaltest(X_lazy)\n",
    "_, pvalue1 = stats.shapiro(X_lazy)\n",
    "if pvalue > 0.05 and pvalue1 > 0.05:\n",
    "    print(\"Malo aktywni pochodza z rozkladu normalnego\")\n",
    "    \n",
    "_, pvalue = stats.normaltest(X_active)\n",
    "_, pvalue1 = stats.shapiro(X_active)\n",
    "if pvalue > 0.05 and pvalue1 > 0.05:\n",
    "    print(\"Aktywni pochodza z rozkladu normalnego\")"
   ]
  },
  {
   "cell_type": "code",
   "execution_count": null,
   "metadata": {},
   "outputs": [],
   "source": []
  }
 ],
 "metadata": {
  "kernelspec": {
   "display_name": "Python 3",
   "language": "python",
   "name": "python3"
  },
  "language_info": {
   "codemirror_mode": {
    "name": "ipython",
    "version": 3
   },
   "file_extension": ".py",
   "mimetype": "text/x-python",
   "name": "python",
   "nbconvert_exporter": "python",
   "pygments_lexer": "ipython3",
   "version": "3.6.8"
  }
 },
 "nbformat": 4,
 "nbformat_minor": 2
}
