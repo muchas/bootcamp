{
 "cells": [
  {
   "cell_type": "code",
   "execution_count": 1,
   "metadata": {},
   "outputs": [
    {
     "name": "stderr",
     "output_type": "stream",
     "text": [
      "/Users/smucha/miniconda3/envs/py3k/lib/python3.6/site-packages/statsmodels/compat/pandas.py:56: FutureWarning: The pandas.core.datetools module is deprecated and will be removed in a future version. Please use the pandas.tseries module instead.\n",
      "  from pandas.core import datetools\n"
     ]
    }
   ],
   "source": [
    "import numpy as np\n",
    "import matplotlib.pyplot as plt\n",
    "import scipy.stats as stats\n",
    "import pandas as pd\n",
    "# additional packages\n",
    "from statsmodels.stats.diagnostic import lillifors"
   ]
  },
  {
   "cell_type": "markdown",
   "metadata": {},
   "source": [
    "# Badanie założenia o normalności rozkładu"
   ]
  },
  {
   "cell_type": "markdown",
   "metadata": {},
   "source": [
    "Wylosujmy próbki z rozkładu normalnego, jednostajnego i t-Studenta, a następnie sprawdźmy jak zadziałają testy na tych próbkach."
   ]
  },
  {
   "cell_type": "code",
   "execution_count": 2,
   "metadata": {},
   "outputs": [],
   "source": [
    "n=1000\n",
    "ud=stats.uniform(-1,2)\n",
    "nd=stats.norm()\n",
    "td=stats.t(7)\n",
    "data_u=ud.rvs(n)\n",
    "data_n=nd.rvs(n)\n",
    "data_t=td.rvs(n)\n",
    "fewData_u = data_u[:100]\n",
    "fewData_n = data_n[:100]\n",
    "fewData_t = data_t[:100]"
   ]
  },
  {
   "cell_type": "code",
   "execution_count": 3,
   "metadata": {},
   "outputs": [
    {
     "name": "stdout",
     "output_type": "stream",
     "text": [
      "p-values for all 1000 data points: ----------------\n",
      "Omnibus               1.580166e-153\n",
      "Shapiro-Wilk           4.069432e-17\n",
      "Lilliefors             4.220802e-10\n",
      "Kolmogorov-Smirnov     6.436196e-04\n",
      "dtype: float64\n",
      "p-values for the first 100 data points: ----------------\n",
      "Omnibus               5.137194e-08\n",
      "Shapiro-Wilk          5.536375e-04\n",
      "Lilliefors            2.189398e-02\n",
      "Kolmogorov-Smirnov    2.878488e-01\n",
      "dtype: float64\n"
     ]
    },
    {
     "name": "stderr",
     "output_type": "stream",
     "text": [
      "/Users/smucha/miniconda3/envs/py3k/lib/python3.6/site-packages/ipykernel_launcher.py:16: DeprecationWarning: `lillifors` is deprecated, use `lilliefors` instead!\n",
      "Use lilliefors, lillifors will be removed in 0.9 \n",
      "(Note: misspelling missing 'e')\n",
      "  app.launch_new_instance()\n",
      "/Users/smucha/miniconda3/envs/py3k/lib/python3.6/site-packages/ipykernel_launcher.py:17: DeprecationWarning: `lillifors` is deprecated, use `lilliefors` instead!\n",
      "Use lilliefors, lillifors will be removed in 0.9 \n",
      "(Note: misspelling missing 'e')\n"
     ]
    }
   ],
   "source": [
    "data = data_u\n",
    "fewData = fewData_u\n",
    "\n",
    "pVals = pd.Series()\n",
    "pFewVals = pd.Series()\n",
    "# The scipy normaltest is based on D-Agostino and Pearsons test that\n",
    "# combines skew and kurtosis to produce an omnibus test of normality.\n",
    "_, pVals['Omnibus']    = stats.normaltest(data)\n",
    "_, pFewVals['Omnibus'] = stats.normaltest(fewData)\n",
    "\n",
    "# Shapiro-Wilk test\n",
    "_, pVals['Shapiro-Wilk']    = stats.shapiro(data)\n",
    "_, pFewVals['Shapiro-Wilk'] = stats.shapiro(fewData)\n",
    "\n",
    "# Or you can check for normality with Lilliefors-test\n",
    "_, pVals['Lilliefors']    = lillifors(data)\n",
    "_, pFewVals['Lilliefors'] = lillifors(fewData)\n",
    "\n",
    "# Alternatively with original Kolmogorov-Smirnov test\n",
    "_, pVals['Kolmogorov-Smirnov']    = stats.kstest((data-np.mean(data))/np.std(data,ddof=1), 'norm')\n",
    "_, pFewVals['Kolmogorov-Smirnov'] = stats.kstest((fewData-np.mean(fewData))/np.std(fewData,ddof=1), 'norm')\n",
    "\n",
    "print('p-values for all {0} data points: ----------------'.format(len(data)))\n",
    "print(pVals)\n",
    "print('p-values for the first 100 data points: ----------------')\n",
    "print(pFewVals)\n",
    "\n",
    "if pVals['Omnibus'] > 0.05:\n",
    "    print('Data are normally distributed')"
   ]
  },
  {
   "cell_type": "code",
   "execution_count": 4,
   "metadata": {},
   "outputs": [
    {
     "name": "stdout",
     "output_type": "stream",
     "text": [
      "p-values for all 1000 data points: ----------------\n",
      "Omnibus               8.368173e-11\n",
      "Shapiro-Wilk          5.505191e-08\n",
      "Lilliefors            1.727933e-02\n",
      "Kolmogorov-Smirnov    2.520154e-01\n",
      "dtype: float64\n",
      "p-values for the first 100 data points: ----------------\n",
      "Omnibus               0.219745\n",
      "Shapiro-Wilk          0.047937\n",
      "Lilliefors            0.033564\n",
      "Kolmogorov-Smirnov    0.336248\n",
      "dtype: float64\n"
     ]
    },
    {
     "name": "stderr",
     "output_type": "stream",
     "text": [
      "/Users/smucha/miniconda3/envs/py3k/lib/python3.6/site-packages/ipykernel_launcher.py:16: DeprecationWarning: `lillifors` is deprecated, use `lilliefors` instead!\n",
      "Use lilliefors, lillifors will be removed in 0.9 \n",
      "(Note: misspelling missing 'e')\n",
      "  app.launch_new_instance()\n",
      "/Users/smucha/miniconda3/envs/py3k/lib/python3.6/site-packages/ipykernel_launcher.py:17: DeprecationWarning: `lillifors` is deprecated, use `lilliefors` instead!\n",
      "Use lilliefors, lillifors will be removed in 0.9 \n",
      "(Note: misspelling missing 'e')\n"
     ]
    }
   ],
   "source": [
    "data = data_t\n",
    "fewData = fewData_t\n",
    "\n",
    "pVals = pd.Series()\n",
    "pFewVals = pd.Series()\n",
    "# The scipy normaltest is based on D-Agostino and Pearsons test that\n",
    "# combines skew and kurtosis to produce an omnibus test of normality.\n",
    "_, pVals['Omnibus']    = stats.normaltest(data)\n",
    "_, pFewVals['Omnibus'] = stats.normaltest(fewData)\n",
    "\n",
    "# Shapiro-Wilk test\n",
    "_, pVals['Shapiro-Wilk']    = stats.shapiro(data)\n",
    "_, pFewVals['Shapiro-Wilk'] = stats.shapiro(fewData)\n",
    "\n",
    "# Or you can check for normality with Lilliefors-test\n",
    "_, pVals['Lilliefors']    = lillifors(data)\n",
    "_, pFewVals['Lilliefors'] = lillifors(fewData)\n",
    "\n",
    "# Alternatively with original Kolmogorov-Smirnov test\n",
    "_, pVals['Kolmogorov-Smirnov']    = stats.kstest((data-np.mean(data))/np.std(data,ddof=1), 'norm')\n",
    "_, pFewVals['Kolmogorov-Smirnov'] = stats.kstest((fewData-np.mean(fewData))/np.std(fewData,ddof=1), 'norm')\n",
    "\n",
    "print('p-values for all {0} data points: ----------------'.format(len(data)))\n",
    "print(pVals)\n",
    "print('p-values for the first 100 data points: ----------------')\n",
    "print(pFewVals)\n",
    "\n",
    "if pVals['Omnibus'] > 0.05:\n",
    "    print('Data are normally distributed')"
   ]
  },
  {
   "cell_type": "code",
   "execution_count": 5,
   "metadata": {},
   "outputs": [
    {
     "name": "stdout",
     "output_type": "stream",
     "text": [
      "p-values for all 1000 data points: ----------------\n",
      "Omnibus               0.604683\n",
      "Shapiro-Wilk          0.547252\n",
      "Lilliefors            0.541200\n",
      "Kolmogorov-Smirnov    0.886685\n",
      "dtype: float64\n",
      "p-values for the first 100 data points: ----------------\n",
      "Omnibus               0.425235\n",
      "Shapiro-Wilk          0.778598\n",
      "Lilliefors            0.601181\n",
      "Kolmogorov-Smirnov    0.924617\n",
      "dtype: float64\n",
      "Data are normally distributed\n"
     ]
    },
    {
     "name": "stderr",
     "output_type": "stream",
     "text": [
      "/Users/smucha/miniconda3/envs/py3k/lib/python3.6/site-packages/ipykernel_launcher.py:16: DeprecationWarning: `lillifors` is deprecated, use `lilliefors` instead!\n",
      "Use lilliefors, lillifors will be removed in 0.9 \n",
      "(Note: misspelling missing 'e')\n",
      "  app.launch_new_instance()\n",
      "/Users/smucha/miniconda3/envs/py3k/lib/python3.6/site-packages/ipykernel_launcher.py:17: DeprecationWarning: `lillifors` is deprecated, use `lilliefors` instead!\n",
      "Use lilliefors, lillifors will be removed in 0.9 \n",
      "(Note: misspelling missing 'e')\n"
     ]
    }
   ],
   "source": [
    "data = data_n\n",
    "fewData = fewData_n\n",
    "\n",
    "pVals = pd.Series()\n",
    "pFewVals = pd.Series()\n",
    "# The scipy normaltest is based on D-Agostino and Pearsons test that\n",
    "# combines skew and kurtosis to produce an omnibus test of normality.\n",
    "_, pVals['Omnibus']    = stats.normaltest(data)\n",
    "_, pFewVals['Omnibus'] = stats.normaltest(fewData)\n",
    "\n",
    "# Shapiro-Wilk test\n",
    "_, pVals['Shapiro-Wilk']    = stats.shapiro(data)\n",
    "_, pFewVals['Shapiro-Wilk'] = stats.shapiro(fewData)\n",
    "\n",
    "# Or you can check for normality with Lilliefors-test\n",
    "_, pVals['Lilliefors']    = lillifors(data)\n",
    "_, pFewVals['Lilliefors'] = lillifors(fewData)\n",
    "\n",
    "# Alternatively with original Kolmogorov-Smirnov test\n",
    "_, pVals['Kolmogorov-Smirnov']    = stats.kstest((data-np.mean(data))/np.std(data,ddof=1), 'norm')\n",
    "_, pFewVals['Kolmogorov-Smirnov'] = stats.kstest((fewData-np.mean(fewData))/np.std(fewData,ddof=1), 'norm')\n",
    "\n",
    "print('p-values for all {0} data points: ----------------'.format(len(data)))\n",
    "print(pVals)\n",
    "print('p-values for the first 100 data points: ----------------')\n",
    "print(pFewVals)\n",
    "\n",
    "if pVals['Omnibus'] > 0.05:\n",
    "    print('Data are normally distributed')"
   ]
  },
  {
   "cell_type": "markdown",
   "metadata": {},
   "source": [
    "# Zadanie\n",
    "Wylosujmy po 100 próbek z rozkładu normalnego, jednostajnego i t-Studenta zawierajacych 1000 punktów, a następnie sprawdżmy na ilu z nich testy normalności się pomylą.\n",
    "\n",
    "Wykonaj analogiczne zadanie dla 100 próbek o liczności 100."
   ]
  },
  {
   "cell_type": "code",
   "execution_count": 6,
   "metadata": {},
   "outputs": [],
   "source": [
    "n = 1000\n",
    "probs_n = 100\n",
    "tstudent_probs = [td.rvs(n) for _ in range(probs_n)]\n",
    "normal_probs = [nd.rvs(n) for _ in range(probs_n)]\n",
    "uniform_probs = [ud.rvs(n) for _ in range(probs_n)]"
   ]
  },
  {
   "cell_type": "code",
   "execution_count": 7,
   "metadata": {},
   "outputs": [],
   "source": [
    "def count_passed_tests(probs, test, predicate):\n",
    "    count = 0\n",
    "    for prob in probs:\n",
    "        _, pvalue = test(prob)\n",
    "        if predicate(pvalue):\n",
    "            count += 1\n",
    "    return count"
   ]
  },
  {
   "cell_type": "code",
   "execution_count": 10,
   "metadata": {},
   "outputs": [],
   "source": [
    "cases = (\n",
    "    (\"tstudent\", tstudent_probs, lambda pvalue: pvalue <= 0.05),\n",
    "    (\"normal\", normal_probs, lambda pvalue: pvalue > 0.05),\n",
    "    (\"uniform\", uniform_probs, lambda pvalue: pvalue <= 0.05)\n",
    ")\n",
    "\n",
    "tests = (\n",
    "    (\"omnibus\", stats.normaltest),\n",
    "    (\"shapiro\", stats.shapiro),\n",
    "    (\"lillifors\", lillifors),\n",
    "#     (\"kstest\", stats.kstest)\n",
    ")     "
   ]
  },
  {
   "cell_type": "code",
   "execution_count": 11,
   "metadata": {},
   "outputs": [
    {
     "name": "stdout",
     "output_type": "stream",
     "text": [
      "prob size: 1000\n",
      "tstudent, test: omnibus - correct: 99/100\n",
      "tstudent, test: shapiro - correct: 99/100\n",
      "tstudent, test: lillifors - correct: 91/100\n"
     ]
    },
    {
     "name": "stderr",
     "output_type": "stream",
     "text": [
      "/Users/smucha/miniconda3/envs/py3k/lib/python3.6/site-packages/ipykernel_launcher.py:4: DeprecationWarning: `lillifors` is deprecated, use `lilliefors` instead!\n",
      "Use lilliefors, lillifors will be removed in 0.9 \n",
      "(Note: misspelling missing 'e')\n",
      "  after removing the cwd from sys.path.\n"
     ]
    },
    {
     "name": "stdout",
     "output_type": "stream",
     "text": [
      "normal, test: omnibus - correct: 92/100\n",
      "normal, test: shapiro - correct: 94/100\n",
      "normal, test: lillifors - correct: 92/100\n",
      "uniform, test: omnibus - correct: 100/100\n",
      "uniform, test: shapiro - correct: 100/100\n",
      "uniform, test: lillifors - correct: 100/100\n"
     ]
    }
   ],
   "source": [
    "print(\"prob size: {}\".format(n))\n",
    "\n",
    "for dist, probs, predicate in cases:\n",
    "    for test_name, test_fun in tests:\n",
    "        passed = count_passed_tests(probs, test_fun, predicate)\n",
    "        print(f\"{dist}, test: {test_name} - correct: {passed}/{len(probs)}\")\n",
    "        "
   ]
  },
  {
   "cell_type": "code",
   "execution_count": 12,
   "metadata": {},
   "outputs": [
    {
     "name": "stdout",
     "output_type": "stream",
     "text": [
      "prob size: 100\n",
      "tstudent, test: omnibus - correct: 51/100\n",
      "tstudent, test: shapiro - correct: 42/100\n",
      "tstudent, test: lillifors - correct: 20/100\n",
      "normal, test: omnibus - correct: 93/100\n",
      "normal, test: shapiro - correct: 93/100\n",
      "normal, test: lillifors - correct: 92/100\n"
     ]
    },
    {
     "name": "stderr",
     "output_type": "stream",
     "text": [
      "/Users/smucha/miniconda3/envs/py3k/lib/python3.6/site-packages/ipykernel_launcher.py:4: DeprecationWarning: `lillifors` is deprecated, use `lilliefors` instead!\n",
      "Use lilliefors, lillifors will be removed in 0.9 \n",
      "(Note: misspelling missing 'e')\n",
      "  after removing the cwd from sys.path.\n"
     ]
    },
    {
     "name": "stdout",
     "output_type": "stream",
     "text": [
      "uniform, test: omnibus - correct: 100/100\n",
      "uniform, test: shapiro - correct: 100/100\n",
      "uniform, test: lillifors - correct: 53/100\n"
     ]
    }
   ],
   "source": [
    "n = 100\n",
    "probs_n = 100\n",
    "tstudent_probs = [td.rvs(n) for _ in range(probs_n)]\n",
    "normal_probs = [nd.rvs(n) for _ in range(probs_n)]\n",
    "uniform_probs = [ud.rvs(n) for _ in range(probs_n)]\n",
    "\n",
    "cases = (\n",
    "    (\"tstudent\", tstudent_probs, lambda pvalue: pvalue <= 0.05),\n",
    "    (\"normal\", normal_probs, lambda pvalue: pvalue > 0.05),\n",
    "    (\"uniform\", uniform_probs, lambda pvalue: pvalue <= 0.05)\n",
    ")\n",
    "\n",
    "print(\"prob size: {}\".format(n))\n",
    "\n",
    "for dist, probs, predicate in cases:\n",
    "    for test_name, test_fun in tests:\n",
    "        passed = count_passed_tests(probs, test_fun, predicate)\n",
    "        print(f\"{dist}, test: {test_name} - correct: {passed}/{len(probs)}\")\n",
    "        "
   ]
  },
  {
   "cell_type": "code",
   "execution_count": null,
   "metadata": {},
   "outputs": [],
   "source": []
  }
 ],
 "metadata": {
  "kernelspec": {
   "display_name": "Python 3",
   "language": "python",
   "name": "python3"
  },
  "language_info": {
   "codemirror_mode": {
    "name": "ipython",
    "version": 3
   },
   "file_extension": ".py",
   "mimetype": "text/x-python",
   "name": "python",
   "nbconvert_exporter": "python",
   "pygments_lexer": "ipython3",
   "version": "3.6.8"
  }
 },
 "nbformat": 4,
 "nbformat_minor": 2
}
