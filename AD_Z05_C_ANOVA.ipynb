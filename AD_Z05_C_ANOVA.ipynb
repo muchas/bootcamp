{
 "cells": [
  {
   "cell_type": "markdown",
   "metadata": {
    "collapsed": true
   },
   "source": [
    "# Zadanie 1\n",
    "Pobieraj dane z pliku ANOVA4.txt\n",
    "Zawiera on dane z eksperymentu na roślinach, które były hodowane w trzech  różnych warunki wzrostu. \n",
    "\n",
    "- Wykonaj ANOVA\n",
    "- Czy trzy grupy są różne?\n",
    "- Wykonaj analizę post hoc, która z par jest inna? \n",
    "\n",
    "Przykład tutaj:\n",
    "\n",
    "https://github.com/przem85/bootcamp/blob/master/statistics/D07_Z13.ipynb"
   ]
  },
  {
   "cell_type": "code",
   "execution_count": 1,
   "metadata": {},
   "outputs": [],
   "source": [
    "import numpy as np\n",
    "import scipy.stats as stats\n",
    "import pandas as pd"
   ]
  },
  {
   "cell_type": "code",
   "execution_count": 2,
   "metadata": {},
   "outputs": [
    {
     "data": {
      "text/html": [
       "<div>\n",
       "<style scoped>\n",
       "    .dataframe tbody tr th:only-of-type {\n",
       "        vertical-align: middle;\n",
       "    }\n",
       "\n",
       "    .dataframe tbody tr th {\n",
       "        vertical-align: top;\n",
       "    }\n",
       "\n",
       "    .dataframe thead th {\n",
       "        text-align: right;\n",
       "    }\n",
       "</style>\n",
       "<table border=\"1\" class=\"dataframe\">\n",
       "  <thead>\n",
       "    <tr style=\"text-align: right;\">\n",
       "      <th></th>\n",
       "      <th>group</th>\n",
       "      <th>weight</th>\n",
       "    </tr>\n",
       "  </thead>\n",
       "  <tbody>\n",
       "    <tr>\n",
       "      <th>0</th>\n",
       "      <td>Control</td>\n",
       "      <td>4.17</td>\n",
       "    </tr>\n",
       "    <tr>\n",
       "      <th>1</th>\n",
       "      <td>Control</td>\n",
       "      <td>5.58</td>\n",
       "    </tr>\n",
       "    <tr>\n",
       "      <th>2</th>\n",
       "      <td>Control</td>\n",
       "      <td>5.18</td>\n",
       "    </tr>\n",
       "    <tr>\n",
       "      <th>3</th>\n",
       "      <td>Control</td>\n",
       "      <td>6.11</td>\n",
       "    </tr>\n",
       "    <tr>\n",
       "      <th>4</th>\n",
       "      <td>Control</td>\n",
       "      <td>4.50</td>\n",
       "    </tr>\n",
       "  </tbody>\n",
       "</table>\n",
       "</div>"
      ],
      "text/plain": [
       "     group  weight\n",
       "0  Control    4.17\n",
       "1  Control    5.58\n",
       "2  Control    5.18\n",
       "3  Control    6.11\n",
       "4  Control    4.50"
      ]
     },
     "execution_count": 2,
     "metadata": {},
     "output_type": "execute_result"
    }
   ],
   "source": [
    "df = pd.read_csv('data/ANOVA4.txt',sep=\" \",header=None, names=['group','weight'])\n",
    "df.head()"
   ]
  },
  {
   "cell_type": "code",
   "execution_count": 3,
   "metadata": {},
   "outputs": [],
   "source": [
    " # Sort them into groups, according to column 1\n",
    "data=np.array(df)\n",
    "group1 = data[data[:,0]=='Control',1]\n",
    "group2 = data[data[:,0]=='TreatmentA',1]\n",
    "group3 = data[data[:,0]=='TreatmentB',1]"
   ]
  },
  {
   "cell_type": "code",
   "execution_count": 11,
   "metadata": {},
   "outputs": [
    {
     "name": "stdout",
     "output_type": "stream",
     "text": [
      "One-way ANOVA\n",
      "=============\n",
      "F value: 6.005680376516912\n",
      "P value: 0.00695554199802733 \n",
      "\n",
      "P value mniejsze niz 0.05, odrzucamy hipoteze rownosci\n"
     ]
    }
   ],
   "source": [
    "f, p = stats.f_oneway(group1, group2, group3)\n",
    " \n",
    "print ('One-way ANOVA')\n",
    "print ('=============')\n",
    " \n",
    "print ('F value:', f)\n",
    "print ('P value:', p, '\\n')\n",
    "\n",
    "print(\"P value mniejsze niz 0.05, odrzucamy hipoteze rownosci\")"
   ]
  },
  {
   "cell_type": "code",
   "execution_count": 12,
   "metadata": {},
   "outputs": [
    {
     "name": "stdout",
     "output_type": "stream",
     "text": [
      " Multiple Comparison of Means - Tukey HSD,FWER=0.05 \n",
      "====================================================\n",
      "  group1     group2   meandiff  lower  upper  reject\n",
      "----------------------------------------------------\n",
      " Control   TreatmentA  -0.373  -1.0638 0.3178 False \n",
      " Control   TreatmentB  0.585   -0.1058 1.2758 False \n",
      "TreatmentA TreatmentB  0.958    0.2672 1.6488  True \n",
      "----------------------------------------------------\n"
     ]
    }
   ],
   "source": [
    "from statsmodels.stats.multicomp import (pairwise_tukeyhsd, MultiComparison)\n",
    "\n",
    "multiComp = MultiComparison(df[\"weight\"], df[\"group\"])\n",
    "\n",
    "print((multiComp.tukeyhsd().summary()))"
   ]
  },
  {
   "cell_type": "markdown",
   "metadata": {},
   "source": [
    "Odrzucamy hipotezę o równości średnich TreatmentA i TreatmentB"
   ]
  },
  {
   "cell_type": "code",
   "execution_count": null,
   "metadata": {},
   "outputs": [],
   "source": []
  }
 ],
 "metadata": {
  "kernelspec": {
   "display_name": "Python 3",
   "language": "python",
   "name": "python3"
  },
  "language_info": {
   "codemirror_mode": {
    "name": "ipython",
    "version": 3
   },
   "file_extension": ".py",
   "mimetype": "text/x-python",
   "name": "python",
   "nbconvert_exporter": "python",
   "pygments_lexer": "ipython3",
   "version": "3.6.8"
  }
 },
 "nbformat": 4,
 "nbformat_minor": 2
}
