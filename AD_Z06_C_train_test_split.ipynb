{
 "cells": [
  {
   "cell_type": "markdown",
   "metadata": {},
   "source": [
    "# Train test split\n"
   ]
  },
  {
   "cell_type": "code",
   "execution_count": 1,
   "metadata": {},
   "outputs": [],
   "source": [
    "import numpy as np\n",
    "import pandas as pd\n",
    "import scipy.stats as stats\n",
    "import sklearn.linear_model as lm\n",
    "from sklearn import datasets, linear_model\n",
    "import matplotlib.pyplot as plt\n",
    "\n",
    "from sklearn.preprocessing import PolynomialFeatures\n",
    "from sklearn.pipeline import make_pipeline\n",
    "\n",
    "from sklearn import  metrics"
   ]
  },
  {
   "cell_type": "markdown",
   "metadata": {},
   "source": [
    "Rozważmy następujący zbiór punktów:"
   ]
  },
  {
   "cell_type": "code",
   "execution_count": 2,
   "metadata": {},
   "outputs": [
    {
     "data": {
      "image/png": "[encoded data removed]",
      "text/plain": [
       "<Figure size 432x288 with 1 Axes>"
      ]
     },
     "metadata": {
      "needs_background": "light"
     },
     "output_type": "display_data"
    }
   ],
   "source": [
    "x = stats.uniform(0,3).rvs(100)\n",
    "f = lambda x: ((x*2-1)*(x**2-2)*(x-2)+3)\n",
    "y = f(x) + stats.norm(0,0.3).rvs(len(x))\n",
    "plt.plot(x, y, 'ok', ms=10);\n",
    "plt.show()"
   ]
  },
  {
   "cell_type": "markdown",
   "metadata": {},
   "source": [
    "# Przykład\n",
    "Podziel zbiór danych na część testową i treningową. \n",
    "Naucz model na części treningowej i ocen wyniki na części testowej."
   ]
  },
  {
   "cell_type": "code",
   "execution_count": 5,
   "metadata": {},
   "outputs": [
    {
     "name": "stdout",
     "output_type": "stream",
     "text": [
      "(60,) (60,)\n",
      "(40,) (40,)\n"
     ]
    }
   ],
   "source": [
    "from sklearn.model_selection import train_test_split\n",
    "X_train, X_test, y_train, y_test = train_test_split(x, y, test_size=0.4, random_state=0)\n",
    "\n",
    "print(X_train.shape, y_train.shape)\n",
    "print(X_test.shape, y_test.shape)"
   ]
  },
  {
   "cell_type": "code",
   "execution_count": 6,
   "metadata": {},
   "outputs": [],
   "source": [
    "X_train=np.vstack(X_train)\n",
    "X_test=np.vstack(X_test)"
   ]
  },
  {
   "cell_type": "code",
   "execution_count": 7,
   "metadata": {},
   "outputs": [
    {
     "data": {
      "text/plain": [
       "array([17.59261303, 14.37577329, -0.37026663,  0.6254252 , -0.34730461,\n",
       "       -0.29591623,  3.23101674, -0.33277333, -0.04304874,  0.99297165,\n",
       "       13.54411521,  1.78609748,  0.8909477 , -0.16766525,  2.5075138 ,\n",
       "       17.38079622, -0.09303092,  6.53152727, -0.17385235, 11.53905406,\n",
       "        1.39576355,  3.15648754,  2.0468273 ,  9.98236239, 19.42673119,\n",
       "        0.08414115, -0.14653354, 14.42143055,  3.38270704,  0.20135915,\n",
       "       -0.31283562, -0.27843523,  3.56412295, 10.44113357, 25.13772622,\n",
       "       18.89854252, -0.30603414,  9.51500607,  1.86847596,  3.71144474])"
      ]
     },
     "execution_count": 7,
     "metadata": {},
     "output_type": "execute_result"
    }
   ],
   "source": [
    "model2 = make_pipeline(PolynomialFeatures(2), linear_model.LinearRegression())\n",
    "model2.fit(X_train, y_train)\n",
    "model2.predict(X_test)"
   ]
  },
  {
   "cell_type": "code",
   "execution_count": 8,
   "metadata": {},
   "outputs": [
    {
     "name": "stdout",
     "output_type": "stream",
     "text": [
      "Explained variance score: 0.7063601708289593\n",
      "Explained variance score: 0.7063601708289593\n",
      "Median absolute error: 3.821211438854471\n",
      "Mean squared error: 13.681614331361487\n",
      "Mean absolute errors: 3.2193152205371214\n"
     ]
    }
   ],
   "source": [
    "print(\"Explained variance score: {}\".format( metrics.explained_variance_score(y_test, model2.predict(X_test)) ))\n",
    "print(\"Explained variance score: {}\".format( metrics.explained_variance_score(y_test, model2.predict(X_test)) ))\n",
    "print(\"Median absolute error: {}\".format( metrics.median_absolute_error(y_test, model2.predict(X_test)) ))\n",
    "print(\"Mean squared error: {}\".format( metrics.mean_squared_error(y_test, model2.predict(X_test)) ))\n",
    "print(\"Mean absolute errors: {}\".format(metrics.mean_absolute_error(y_test, model2.predict(X_test)) ))"
   ]
  },
  {
   "cell_type": "markdown",
   "metadata": {},
   "source": [
    "# Zadanie\n",
    "Wylicz powyższe miary dla wszytkich modeli:\n",
    "\n",
    "- regrsji linowej\n",
    "- regrsji wielomianowej stopnia 2\n",
    "- regrsji wielomianowej stopnia 3\n",
    "- regrsji wielomianowej stopnia 4\n",
    "- regrsji wielomianowej stopnia 5\n",
    "- regrsji wielomianowej stopnia 25"
   ]
  },
  {
   "cell_type": "code",
   "execution_count": 15,
   "metadata": {},
   "outputs": [],
   "source": [
    "from sklearn.preprocessing import PolynomialFeatures\n",
    "from sklearn.pipeline import make_pipeline\n",
    "from sklearn import  metrics\n",
    "from sklearn import datasets, linear_model\n",
    "\n",
    "def calculate_metrics(degree, model):\n",
    "    print(\"Regression degree: {}\".format(degree))\n",
    "    print(\"Explained variance score: {}\".format( metrics.explained_variance_score(y_test, model.predict(X_test)) ))\n",
    "    print(\"Explained variance score: {}\".format( metrics.explained_variance_score(y_test, model.predict(X_test)) ))\n",
    "    print(\"Median absolute error: {}\".format( metrics.median_absolute_error(y_test, model.predict(X_test)) ))\n",
    "    print(\"Mean squared error: {}\".format( metrics.mean_squared_error(y_test, model.predict(X_test)) ))\n",
    "    print(\"Mean absolute errors: {}\".format(metrics.mean_absolute_error(y_test, model.predict(X_test)) ))"
   ]
  },
  {
   "cell_type": "code",
   "execution_count": 21,
   "metadata": {},
   "outputs": [
    {
     "name": "stdout",
     "output_type": "stream",
     "text": [
      "Regression degree: 1\n",
      "Explained variance score: 0.515525577674294\n",
      "Explained variance score: 0.515525577674294\n",
      "Median absolute error: 2.8215070933986865\n",
      "Mean squared error: 21.667245506014943\n",
      "Mean absolute errors: 3.461888330336072\n",
      "\n",
      "\n",
      "Regression degree: 2\n",
      "Explained variance score: 0.7063601708289593\n",
      "Explained variance score: 0.7063601708289593\n",
      "Median absolute error: 3.821211438854471\n",
      "Mean squared error: 13.681614331361487\n",
      "Mean absolute errors: 3.2193152205371214\n",
      "\n",
      "\n",
      "Regression degree: 3\n",
      "Explained variance score: 0.987234665158354\n",
      "Explained variance score: 0.987234665158354\n",
      "Median absolute error: 0.5947121766883186\n",
      "Mean squared error: 0.5829039058754272\n",
      "Mean absolute errors: 0.660078498534911\n",
      "\n",
      "\n",
      "Regression degree: 4\n",
      "Explained variance score: 0.9988698240021138\n",
      "Explained variance score: 0.9988698240021138\n",
      "Median absolute error: 0.14091146414454725\n",
      "Mean squared error: 0.05255776354632201\n",
      "Mean absolute errors: 0.18415294955946124\n",
      "\n",
      "\n",
      "Regression degree: 5\n",
      "Explained variance score: 0.9987504133018918\n",
      "Explained variance score: 0.9987504133018918\n",
      "Median absolute error: 0.14023857545201257\n",
      "Mean squared error: 0.05891260621079879\n",
      "Mean absolute errors: 0.19902476423499202\n",
      "\n",
      "\n",
      "Regression degree: 25\n",
      "Explained variance score: 0.9983969873265424\n",
      "Explained variance score: 0.9983969873265424\n",
      "Median absolute error: 0.18220985284311353\n",
      "Mean squared error: 0.07289099893567155\n",
      "Mean absolute errors: 0.20880269655457567\n",
      "\n",
      "\n"
     ]
    }
   ],
   "source": [
    "degrees = (1, 2, 3, 4, 5, 25)\n",
    "\n",
    "for degree in degrees:\n",
    "    model = make_pipeline(PolynomialFeatures(degree), linear_model.LinearRegression())\n",
    "    model.fit(X_train, y_train)\n",
    "    calculate_metrics(degree, model)\n",
    "    print(\"\\n\")"
   ]
  },
  {
   "cell_type": "code",
   "execution_count": null,
   "metadata": {},
   "outputs": [],
   "source": []
  }
 ],
 "metadata": {
  "kernelspec": {
   "display_name": "Python 3",
   "language": "python",
   "name": "python3"
  },
  "language_info": {
   "codemirror_mode": {
    "name": "ipython",
    "version": 3
   },
   "file_extension": ".py",
   "mimetype": "text/x-python",
   "name": "python",
   "nbconvert_exporter": "python",
   "pygments_lexer": "ipython3",
   "version": "3.6.8"
  }
 },
 "nbformat": 4,
 "nbformat_minor": 2
}
